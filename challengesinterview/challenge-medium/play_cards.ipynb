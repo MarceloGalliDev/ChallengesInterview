{
 "cells": [
  {
   "cell_type": "code",
   "execution_count": 2,
   "id": "34a443e7",
   "metadata": {},
   "outputs": [],
   "source": [
    "while True:\n",
    "\tn = int(input())\n",
    "\tif n == 0:\n",
    "\t\tbreak\n",
    "\n",
    "\tcards = [i for i in range(n, 0, -1)]"
   ]
  }
 ],
 "metadata": {
  "kernelspec": {
   "display_name": ".venv",
   "language": "python",
   "name": "python3"
  },
  "language_info": {
   "codemirror_mode": {
    "name": "ipython",
    "version": 3
   },
   "file_extension": ".py",
   "mimetype": "text/x-python",
   "name": "python",
   "nbconvert_exporter": "python",
   "pygments_lexer": "ipython3",
   "version": "3.12.9"
  }
 },
 "nbformat": 4,
 "nbformat_minor": 5
}
